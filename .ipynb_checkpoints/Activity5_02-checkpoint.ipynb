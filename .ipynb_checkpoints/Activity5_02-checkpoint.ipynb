{
 "cells": [
  {
   "cell_type": "markdown",
   "metadata": {},
   "source": [
    "# Activity 5.02: Clustering Red Wine Data Using the Mean Shift Algorithm and Agglomerative Hierarchical Clustering\n",
    "\n",
    "In this activity, you will work on the Wine Quality dataset and, more specifically, on red wine data. This dataset contains data on the quality of 1,599 red wines and the results of their chemical tests.\n",
    "\n",
    "Your goal will be to build two clustering models (using the mean shift algorithm and agglomerative hierarchical clustering) in order to identify whether wines of similar quality also have similar physicochemical properties. You will also have to evaluate and compare the two clustering models using extrinsic and intrinsic approaches.\n",
    "\n",
    "  > The dataset can be found at the following URL: [https://archive.ics.uci.edu/ml/datasets/Wine+Quality](https://archive.ics.uci.edu/ml/datasets/Wine+Quality). Citation: P. Cortez, A. Cerdeira, F. Almeida, T. Matos and J. Reis. Modeling wine preferences by data mining from physicochemical properties. In Decision Support Systems, Elsevier, 47(4):547-553, 2009.\n",
    "  \n",
    "Output:\n",
    "\n",
    "The values of each score for the mean shift clustering model will be as follows:\n",
    "\n",
    "  * The adjusted Rand index: 0.0006771608724007207\n",
    "  * The adjusted mutual information: 0.004837187596124968\n",
    "  * The V-Measure: 0.021907254751144124\n",
    "  * The Fowlkes-Mallows score: 0.5721233634622408\n",
    "  * The Silhouette Coefficient: 0.32769323700400077\n",
    "  * The Calinski-Harabasz index: 44.62091774102674\n",
    "  * The Davies-Bouldin index: 0.8106334674570222\n",
    "  \n",
    "The values of each score for the agglomerative hierarchical clustering will be as follows:\n",
    "\n",
    "  * The adjusted Rand index: 0.05358047852603172\n",
    "  * The adjusted mutual information: 0.05993098663692826\n",
    "  * The V-Measure: 0.07549735446050691\n",
    "  * The Fowlkes-Mallows score: 0.3300681478007641\n",
    "  * The Silhouette Coefficient: 0.1591882574407987\n",
    "  * The Calinski-Harabasz index: 223.5171774491095\n",
    "  * The Davies-Bouldin index: 1.4975443816135114\n",
    "\n",
    "  \n",
    "  > **Hints**  \n",
    "  >  * Load the dataset `winequality-red.csv` as a DataFrame with `sep = \";\"` and inspect the data.\n",
    "  >  * Create a mean shift clustering model, then retrieve the model's predicted labels and the number of clusters created.\n",
    "  >  * Create an agglomerative hierarchical clustering model after creating a dendrogram and selecting the optimal number of clusters.\n",
    "  >  * Retrieve the labels from the first clustering model.\n",
    "  >  * Compute the following extrinsic approach scores for both models:\n",
    "  >    * The adjusted Rand index\n",
    "  >    * The adjusted mutual information\n",
    "  >    * The V-Measure\n",
    "  >    * The Fowlkes-Mallows score\n",
    "  >  * Compute the following intrinsic approach scores for both models:\n",
    "  >    * The Silhouette Coefficient\n",
    "  >    * The Calinski-Harabasz index\n",
    "  >    * The Davies-Bouldin index\n",
    "  \n"
   ]
  },
  {
   "cell_type": "code",
   "execution_count": null,
   "metadata": {},
   "outputs": [],
   "source": []
  },
  {
   "cell_type": "code",
   "execution_count": null,
   "metadata": {},
   "outputs": [],
   "source": []
  },
  {
   "cell_type": "code",
   "execution_count": null,
   "metadata": {},
   "outputs": [],
   "source": []
  },
  {
   "cell_type": "code",
   "execution_count": null,
   "metadata": {},
   "outputs": [],
   "source": []
  },
  {
   "cell_type": "code",
   "execution_count": null,
   "metadata": {},
   "outputs": [],
   "source": []
  },
  {
   "cell_type": "code",
   "execution_count": null,
   "metadata": {},
   "outputs": [],
   "source": []
  },
  {
   "cell_type": "code",
   "execution_count": null,
   "metadata": {},
   "outputs": [],
   "source": []
  },
  {
   "cell_type": "code",
   "execution_count": null,
   "metadata": {},
   "outputs": [],
   "source": []
  },
  {
   "cell_type": "code",
   "execution_count": null,
   "metadata": {},
   "outputs": [],
   "source": []
  },
  {
   "cell_type": "code",
   "execution_count": null,
   "metadata": {},
   "outputs": [],
   "source": []
  },
  {
   "cell_type": "code",
   "execution_count": null,
   "metadata": {},
   "outputs": [],
   "source": []
  },
  {
   "cell_type": "code",
   "execution_count": null,
   "metadata": {},
   "outputs": [],
   "source": []
  },
  {
   "cell_type": "code",
   "execution_count": null,
   "metadata": {},
   "outputs": [],
   "source": []
  },
  {
   "cell_type": "code",
   "execution_count": null,
   "metadata": {},
   "outputs": [],
   "source": []
  },
  {
   "cell_type": "markdown",
   "metadata": {},
   "source": [
    "In conclusion, with the intrinsic approach evaluation, both our models were well defined and confirm our intuition on the red wine dataset, that is, similar physicochemical properties are not associated with similar quality. We were also able to see that in most of our scores, the agglomerative hierarchical model performs better than the mean shift model."
   ]
  },
  {
   "cell_type": "code",
   "execution_count": null,
   "metadata": {},
   "outputs": [],
   "source": []
  }
 ],
 "metadata": {
  "kernelspec": {
   "display_name": "Python 3",
   "language": "python",
   "name": "python3"
  },
  "language_info": {
   "codemirror_mode": {
    "name": "ipython",
    "version": 3
   },
   "file_extension": ".py",
   "mimetype": "text/x-python",
   "name": "python",
   "nbconvert_exporter": "python",
   "pygments_lexer": "ipython3",
   "version": "3.8.5"
  }
 },
 "nbformat": 4,
 "nbformat_minor": 4
}
